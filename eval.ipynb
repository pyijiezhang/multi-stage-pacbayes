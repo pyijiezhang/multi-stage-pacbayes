{
 "cells": [
  {
   "cell_type": "code",
   "execution_count": 1,
   "metadata": {},
   "outputs": [
    {
     "name": "stderr",
     "output_type": "stream",
     "text": [
      "/Users/nsq277/opt/anaconda3/envs/pbb_tight/lib/python3.8/site-packages/tqdm/auto.py:21: TqdmWarning: IProgress not found. Please update jupyter and ipywidgets. See https://ipywidgets.readthedocs.io/en/stable/user_install.html\n",
      "  from .autonotebook import tqdm as notebook_tqdm\n"
     ]
    }
   ],
   "source": [
    "import torch \n",
    "from pbb.eval import *\n",
    "from pbb.models import *\n",
    "from pbb.bounds import PBBobj\n",
    "from pbb import data"
   ]
  },
  {
   "cell_type": "code",
   "execution_count": 2,
   "metadata": {},
   "outputs": [],
   "source": [
    "name_data = \"mnist\"\n",
    "train, test = data.loaddataset(name_data)"
   ]
  },
  {
   "cell_type": "code",
   "execution_count": 3,
   "metadata": {},
   "outputs": [],
   "source": [
    "device = \"cpu\"\n",
    "loader_kargs = (\n",
    "    {\"num_workers\": 1, \"pin_memory\": True} if torch.cuda.is_available() else {}\n",
    ")"
   ]
  },
  {
   "cell_type": "code",
   "execution_count": 4,
   "metadata": {},
   "outputs": [],
   "source": [
    "(\n",
    "    _,\n",
    "    train_1batch_loader,\n",
    "    _,\n",
    "    train1_1batch_loader,\n",
    "    _,\n",
    "    train2_1batch_loader,\n",
    "    _,\n",
    "    _,\n",
    ") = data.loadbatches(\n",
    "    train,\n",
    "    test,\n",
    "    loader_kargs,\n",
    "    batch_size=250,\n",
    "    prior=True,\n",
    "    perc_train=1.0,\n",
    "    perc_prior=0.5,\n",
    ")"
   ]
  },
  {
   "cell_type": "code",
   "execution_count": 5,
   "metadata": {},
   "outputs": [],
   "source": [
    "for data, target in train1_1batch_loader:\n",
    "    input_S_1, target_S_1 = data.to(device), target.to(device)\n",
    "for data, target in train2_1batch_loader:\n",
    "    input_S_2, target_S_2 = data.to(device), target.to(device)\n",
    "for data, target in train_1batch_loader:\n",
    "    input_S, target_S = data.to(device), target.to(device)"
   ]
  },
  {
   "cell_type": "code",
   "execution_count": null,
   "metadata": {},
   "outputs": [],
   "source": [
    "net0_mnist_fquad_learnt_1.0.pt"
   ]
  },
  {
   "cell_type": "code",
   "execution_count": 7,
   "metadata": {},
   "outputs": [],
   "source": [
    "net0 = torch.load(\n",
    "    \"./saved_models/net0_mnist_fquad_learnt_1.0.pt\",\n",
    "    map_location=torch.device(device),\n",
    ")\n",
    "mu_net0 = get_mu(net0)"
   ]
  },
  {
   "cell_type": "code",
   "execution_count": null,
   "metadata": {},
   "outputs": [],
   "source": []
  },
  {
   "cell_type": "code",
   "execution_count": 9,
   "metadata": {},
   "outputs": [],
   "source": [
    "net1 = torch.load(\n",
    "    \"./saved_models/pnet1_mnist_fquad_learnt_1.0.pt\",\n",
    "    map_location=torch.device(device),\n",
    ")\n",
    "mu_pnet1 = get_mu_pnet(net1)\n",
    "sigma_pnet1 = get_sigma_pnet(net1)"
   ]
  },
  {
   "cell_type": "code",
   "execution_count": 28,
   "metadata": {},
   "outputs": [
    {
     "data": {
      "text/plain": [
       "tensor(35942.3516)"
      ]
     },
     "execution_count": 28,
     "metadata": {},
     "output_type": "execute_result"
    }
   ],
   "source": [
    "sigma_pnet1.sum()"
   ]
  },
  {
   "cell_type": "code",
   "execution_count": 11,
   "metadata": {},
   "outputs": [],
   "source": [
    "net2 = torch.load(\n",
    "    \"./saved_models/net2_mnist_fquad_learnt_1.0.pt\",\n",
    "    map_location=torch.device(device),\n",
    ")\n",
    "mu_pnet2 = get_mu_pnet(net2)\n",
    "sigma_pnet2 = get_sigma_pnet(net2)"
   ]
  },
  {
   "cell_type": "code",
   "execution_count": 27,
   "metadata": {},
   "outputs": [
    {
     "data": {
      "text/plain": [
       "tensor(35937.8945)"
      ]
     },
     "execution_count": 27,
     "metadata": {},
     "output_type": "execute_result"
    }
   ],
   "source": [
    "sigma_pnet2.sum()"
   ]
  },
  {
   "cell_type": "code",
   "execution_count": 14,
   "metadata": {},
   "outputs": [
    {
     "data": {
      "text/plain": [
       "1971.5587158203125"
      ]
     },
     "execution_count": 14,
     "metadata": {},
     "output_type": "execute_result"
    }
   ],
   "source": [
    "kl_approach3=get_kl_q_p(mu_pnet1, sigma_pnet1, mu_net0, 0.03)\n",
    "kl_approach3"
   ]
  },
  {
   "cell_type": "code",
   "execution_count": 15,
   "metadata": {},
   "outputs": [
    {
     "data": {
      "text/plain": [
       "133.07272338867188"
      ]
     },
     "execution_count": 15,
     "metadata": {},
     "output_type": "execute_result"
    }
   ],
   "source": [
    "get_kl_q_p(mu_pnet2, sigma_pnet2, mu_pnet1, sigma_pnet1)\n"
   ]
  },
  {
   "cell_type": "code",
   "execution_count": null,
   "metadata": {},
   "outputs": [],
   "source": [
    "net1.eval()\n",
    "get_loss_01(net1, input_S_2, target_S_2, sample=False).sum()"
   ]
  },
  {
   "cell_type": "code",
   "execution_count": 19,
   "metadata": {},
   "outputs": [
    {
     "data": {
      "text/plain": [
       "tensor(4107)"
      ]
     },
     "execution_count": 19,
     "metadata": {},
     "output_type": "execute_result"
    }
   ],
   "source": [
    "net2.eval()\n",
    "get_loss_01(net2, input_S_2, target_S_2, sample=False).sum()"
   ]
  },
  {
   "cell_type": "code",
   "execution_count": 71,
   "metadata": {},
   "outputs": [
    {
     "data": {
      "text/plain": [
       "torch.Size([30000])"
      ]
     },
     "execution_count": 71,
     "metadata": {},
     "output_type": "execute_result"
    }
   ],
   "source": [
    "aa.shape"
   ]
  },
  {
   "cell_type": "code",
   "execution_count": 30,
   "metadata": {},
   "outputs": [
    {
     "data": {
      "text/plain": [
       "tensor(0.3354, grad_fn=<SelectBackward>)"
      ]
     },
     "execution_count": 30,
     "metadata": {},
     "output_type": "execute_result"
    }
   ],
   "source": [
    "F.softmax(ouput_S_2, dim=1)[0,:][-2]"
   ]
  },
  {
   "cell_type": "code",
   "execution_count": 87,
   "metadata": {},
   "outputs": [
    {
     "data": {
      "text/plain": [
       "tensor([1.2372, 1.8765, 1.3514,  ..., 0.9656, 1.7233, 1.7015],\n",
       "       grad_fn=<SubBackward0>)"
      ]
     },
     "execution_count": 87,
     "metadata": {},
     "output_type": "execute_result"
    }
   ],
   "source": [
    "(F.nll_loss(ouput_S_2, target_S_2, reduce=False) - aa)"
   ]
  },
  {
   "cell_type": "code",
   "execution_count": 85,
   "metadata": {},
   "outputs": [
    {
     "data": {
      "text/plain": [
       "tensor(1.3796, grad_fn=<SubBackward0>)"
      ]
     },
     "execution_count": 85,
     "metadata": {},
     "output_type": "execute_result"
    }
   ],
   "source": [
    "F.nll_loss(ouput_S_2, target_S_2) - aa.float().mean()"
   ]
  },
  {
   "cell_type": "code",
   "execution_count": 93,
   "metadata": {},
   "outputs": [
    {
     "name": "stderr",
     "output_type": "stream",
     "text": [
      "/Users/nsq277/opt/anaconda3/envs/pbb_tight/lib/python3.8/site-packages/torch/nn/_reduction.py:44: UserWarning: size_average and reduce args will be deprecated, please use reduction='none' instead.\n",
      "  warnings.warn(warning.format(ret))\n",
      "/Users/nsq277/opt/anaconda3/envs/pbb_tight/lib/python3.8/site-packages/torch/nn/functional.py:1639: UserWarning: nn.functional.sigmoid is deprecated. Use torch.sigmoid instead.\n",
      "  warnings.warn(\"nn.functional.sigmoid is deprecated. Use torch.sigmoid instead.\")\n"
     ]
    },
    {
     "data": {
      "text/plain": [
       "tensor([0.7751, 0.8672, 0.7944,  ..., 0.7242, 0.8486, 0.8457],\n",
       "       grad_fn=<SigmoidBackward>)"
      ]
     },
     "execution_count": 93,
     "metadata": {},
     "output_type": "execute_result"
    }
   ],
   "source": [
    "F.sigmoid((F.nll_loss(ouput_S_2, target_S_2, reduce=False) - aa))"
   ]
  },
  {
   "cell_type": "code",
   "execution_count": 77,
   "metadata": {},
   "outputs": [
    {
     "name": "stderr",
     "output_type": "stream",
     "text": [
      "/var/folders/xf/5w99rbbs1g79w78bqgk29z2m0000gp/T/ipykernel_77051/2248117067.py:1: UserWarning: Implicit dimension choice for softmax has been deprecated. Change the call to include dim=X as an argument.\n",
      "  F.softmax((bb-1/2)).mean()\n"
     ]
    },
    {
     "data": {
      "text/plain": [
       "tensor(3.3333e-05, grad_fn=<MeanBackward0>)"
      ]
     },
     "execution_count": 77,
     "metadata": {},
     "output_type": "execute_result"
    }
   ],
   "source": [
    "F.softmax((bb-1/2)).mean()"
   ]
  },
  {
   "cell_type": "code",
   "execution_count": 65,
   "metadata": {},
   "outputs": [
    {
     "data": {
      "text/plain": [
       "tensor([9, 0, 7,  ..., 4, 2, 3])"
      ]
     },
     "execution_count": 65,
     "metadata": {},
     "output_type": "execute_result"
    }
   ],
   "source": [
    "target_S_2"
   ]
  },
  {
   "cell_type": "code",
   "execution_count": 34,
   "metadata": {},
   "outputs": [
    {
     "name": "stdout",
     "output_type": "stream",
     "text": [
      "True probabilities: tensor([0.1000, 0.3000, 0.6000])\n",
      "Predicted probabilities: tensor([0.6590, 0.2424, 0.0986])\n",
      "Cross-entropy loss: 2.3170299530029297\n"
     ]
    }
   ],
   "source": [
    "import torch\n",
    "import torch.nn.functional as F\n",
    "\n",
    "# Example ground truth probabilities (target) and predicted logits\n",
    "target_probs = torch.tensor([0.1, 0.3, 0.6])\n",
    "predicted_logits = torch.tensor([2.0, 1.0, 0.1])\n",
    "\n",
    "# Apply softmax to get predicted probabilities\n",
    "predicted_probs = F.softmax(predicted_logits, dim=0)\n",
    "\n",
    "# Compute cross-entropy loss\n",
    "cross_entropy_loss = F.cross_entropy(predicted_logits.view(1, -1), torch.tensor([torch.argmax(target_probs)]))\n",
    "\n",
    "print(\"True probabilities:\", target_probs)\n",
    "print(\"Predicted probabilities:\", predicted_probs)\n",
    "print(\"Cross-entropy loss:\", cross_entropy_loss.item())"
   ]
  },
  {
   "cell_type": "code",
   "execution_count": 39,
   "metadata": {},
   "outputs": [
    {
     "name": "stdout",
     "output_type": "stream",
     "text": [
      "True probabilities: tensor([0.1000, 0.3000, 0.6000])\n",
      "Predicted probabilities: tensor([0.6590, 0.2424, 0.0986])\n",
      "Cross-entropy loss for each data point: tensor([2.3170])\n"
     ]
    },
    {
     "name": "stderr",
     "output_type": "stream",
     "text": [
      "/Users/nsq277/opt/anaconda3/envs/pbb_tight/lib/python3.8/site-packages/torch/nn/_reduction.py:44: UserWarning: size_average and reduce args will be deprecated, please use reduction='none' instead.\n",
      "  warnings.warn(warning.format(ret))\n"
     ]
    }
   ],
   "source": [
    "import torch.nn.functional as F\n",
    "\n",
    "# Example ground truth probabilities (target) and predicted logits\n",
    "target_probs = torch.tensor([0.1, 0.3, 0.6])\n",
    "predicted_logits = torch.tensor([2.0, 1.0, 0.1])\n",
    "\n",
    "# Apply softmax to get predicted probabilities\n",
    "predicted_probs = F.softmax(predicted_logits, dim=0)\n",
    "\n",
    "# Compute cross-entropy loss without summing over data points\n",
    "cross_entropy_loss = F.cross_entropy(predicted_logits.view(1, -1), torch.tensor([torch.argmax(target_probs)]), reduce=False)\n",
    "\n",
    "print(\"True probabilities:\", target_probs)\n",
    "print(\"Predicted probabilities:\", predicted_probs)\n",
    "print(\"Cross-entropy loss for each data point:\", cross_entropy_loss)"
   ]
  },
  {
   "cell_type": "code",
   "execution_count": 41,
   "metadata": {},
   "outputs": [
    {
     "data": {
      "text/plain": [
       "tensor([2.3170])"
      ]
     },
     "execution_count": 41,
     "metadata": {},
     "output_type": "execute_result"
    }
   ],
   "source": [
    "cross_entropy_loss"
   ]
  },
  {
   "cell_type": "code",
   "execution_count": null,
   "metadata": {},
   "outputs": [],
   "source": []
  },
  {
   "cell_type": "code",
   "execution_count": null,
   "metadata": {},
   "outputs": [],
   "source": []
  },
  {
   "cell_type": "code",
   "execution_count": null,
   "metadata": {},
   "outputs": [],
   "source": []
  },
  {
   "cell_type": "code",
   "execution_count": null,
   "metadata": {},
   "outputs": [],
   "source": []
  },
  {
   "cell_type": "code",
   "execution_count": null,
   "metadata": {},
   "outputs": [],
   "source": []
  },
  {
   "cell_type": "code",
   "execution_count": null,
   "metadata": {},
   "outputs": [],
   "source": []
  },
  {
   "cell_type": "code",
   "execution_count": null,
   "metadata": {},
   "outputs": [],
   "source": []
  },
  {
   "cell_type": "code",
   "execution_count": null,
   "metadata": {},
   "outputs": [],
   "source": []
  },
  {
   "cell_type": "code",
   "execution_count": 140,
   "metadata": {},
   "outputs": [
    {
     "data": {
      "text/plain": [
       "torch.Size([600, 784])"
      ]
     },
     "execution_count": 140,
     "metadata": {},
     "output_type": "execute_result"
    }
   ],
   "source": [
    "net1.state_dict()['l1.weight.mu'].shape"
   ]
  },
  {
   "cell_type": "code",
   "execution_count": 142,
   "metadata": {},
   "outputs": [
    {
     "data": {
      "text/plain": [
       "torch.Size([600, 784])"
      ]
     },
     "execution_count": 142,
     "metadata": {},
     "output_type": "execute_result"
    }
   ],
   "source": [
    "net0.state_dict()['l1.weight'].shape"
   ]
  },
  {
   "cell_type": "code",
   "execution_count": 155,
   "metadata": {},
   "outputs": [
    {
     "ename": "ModuleAttributeError",
     "evalue": "'ProbNNet4l' object has no attribute 'init_net'",
     "output_type": "error",
     "traceback": [
      "\u001b[0;31m---------------------------------------------------------------------------\u001b[0m",
      "\u001b[0;31mModuleAttributeError\u001b[0m                      Traceback (most recent call last)",
      "Cell \u001b[0;32mIn[155], line 1\u001b[0m\n\u001b[0;32m----> 1\u001b[0m \u001b[43mnet2\u001b[49m\u001b[38;5;241;43m.\u001b[39;49m\u001b[43minit_net\u001b[49m\n",
      "File \u001b[0;32m~/opt/anaconda3/envs/pbb_tight/lib/python3.8/site-packages/torch/nn/modules/module.py:778\u001b[0m, in \u001b[0;36mModule.__getattr__\u001b[0;34m(self, name)\u001b[0m\n\u001b[1;32m    776\u001b[0m     \u001b[38;5;28;01mif\u001b[39;00m name \u001b[38;5;129;01min\u001b[39;00m modules:\n\u001b[1;32m    777\u001b[0m         \u001b[38;5;28;01mreturn\u001b[39;00m modules[name]\n\u001b[0;32m--> 778\u001b[0m \u001b[38;5;28;01mraise\u001b[39;00m ModuleAttributeError(\u001b[38;5;124m\"\u001b[39m\u001b[38;5;124m'\u001b[39m\u001b[38;5;132;01m{}\u001b[39;00m\u001b[38;5;124m'\u001b[39m\u001b[38;5;124m object has no attribute \u001b[39m\u001b[38;5;124m'\u001b[39m\u001b[38;5;132;01m{}\u001b[39;00m\u001b[38;5;124m'\u001b[39m\u001b[38;5;124m\"\u001b[39m\u001b[38;5;241m.\u001b[39mformat(\n\u001b[1;32m    779\u001b[0m     \u001b[38;5;28mtype\u001b[39m(\u001b[38;5;28mself\u001b[39m)\u001b[38;5;241m.\u001b[39m\u001b[38;5;18m__name__\u001b[39m, name))\n",
      "\u001b[0;31mModuleAttributeError\u001b[0m: 'ProbNNet4l' object has no attribute 'init_net'"
     ]
    }
   ],
   "source": [
    "net2.init_net"
   ]
  },
  {
   "cell_type": "code",
   "execution_count": 154,
   "metadata": {},
   "outputs": [
    {
     "data": {
      "text/plain": [
       "torch.Size([600, 784])"
      ]
     },
     "execution_count": 154,
     "metadata": {},
     "output_type": "execute_result"
    }
   ],
   "source": [
    "net1.l1.weight.rho.shape"
   ]
  },
  {
   "cell_type": "code",
   "execution_count": 152,
   "metadata": {},
   "outputs": [
    {
     "data": {
      "text/plain": [
       "torch.Size([600, 784])"
      ]
     },
     "execution_count": 152,
     "metadata": {},
     "output_type": "execute_result"
    }
   ],
   "source": [
    "net0.l1.weight.shape"
   ]
  },
  {
   "cell_type": "code",
   "execution_count": 20,
   "metadata": {},
   "outputs": [],
   "source": [
    "net1.l1.weight.device=\"cpu\"\n",
    "net1.l1.bias.device=\"cpu\"\n",
    "net1.l1.weight_prior.device=\"cpu\"\n",
    "net1.l1.bias_prior.device=\"cpu\"\n",
    "\n",
    "net1.l2.weight.device=\"cpu\"\n",
    "net1.l2.bias.device=\"cpu\"\n",
    "net1.l2.weight_prior.device=\"cpu\"\n",
    "net1.l2.bias_prior.device=\"cpu\"\n",
    "\n",
    "net1.l3.weight.device=\"cpu\"\n",
    "net1.l3.bias.device=\"cpu\"\n",
    "net1.l3.weight_prior.device=\"cpu\"\n",
    "net1.l3.bias_prior.device=\"cpu\"\n",
    "\n",
    "net1.l4.weight.device=\"cpu\"\n",
    "net1.l4.bias.device=\"cpu\"\n",
    "net1.l4.weight_prior.device=\"cpu\"\n",
    "net1.l4.bias_prior.device=\"cpu\""
   ]
  },
  {
   "cell_type": "code",
   "execution_count": 21,
   "metadata": {},
   "outputs": [],
   "source": [
    "net2.l1.weight.device=\"cpu\"\n",
    "net2.l1.bias.device=\"cpu\"\n",
    "net2.l1.weight_prior.device=\"cpu\"\n",
    "net2.l1.bias_prior.device=\"cpu\"\n",
    "\n",
    "net2.l2.weight.device=\"cpu\"\n",
    "net2.l2.bias.device=\"cpu\"\n",
    "net2.l2.weight_prior.device=\"cpu\"\n",
    "net2.l2.bias_prior.device=\"cpu\"\n",
    "\n",
    "net2.l3.weight.device=\"cpu\"\n",
    "net2.l3.bias.device=\"cpu\"\n",
    "net2.l3.weight_prior.device=\"cpu\"\n",
    "net2.l3.bias_prior.device=\"cpu\"\n",
    "\n",
    "net2.l4.weight.device=\"cpu\"\n",
    "net2.l4.bias.device=\"cpu\"\n",
    "net2.l4.weight_prior.device=\"cpu\"\n",
    "net2.l4.bias_prior.device=\"cpu\""
   ]
  },
  {
   "cell_type": "code",
   "execution_count": 22,
   "metadata": {},
   "outputs": [],
   "source": [
    "bound = PBBobj(\n",
    "        objective=\"fquad\",\n",
    "        pmin=1e-5,\n",
    "        classes=10,\n",
    "        delta=0.025,\n",
    "        delta_test=0.01,\n",
    "        mc_samples=10,\n",
    "        kl_penalty=1.0,\n",
    "        device=\"cpu\",\n",
    "        n_posterior=1,\n",
    "        n_bound=len(input_S_2),\n",
    "    )"
   ]
  },
  {
   "cell_type": "code",
   "execution_count": 23,
   "metadata": {},
   "outputs": [
    {
     "data": {
      "text/plain": [
       "0.7667577241770327"
      ]
     },
     "execution_count": 23,
     "metadata": {},
     "output_type": "execute_result"
    }
   ],
   "source": [
    "train_obj, risk_ce, risk_01, kl, loss_ce_train, loss_01_train = (\n",
    "                computeRiskCertificates(\n",
    "                    net=net2,\n",
    "                    toolarge=False,\n",
    "                    pbobj=bound,\n",
    "                    device=device,\n",
    "                    lambda_var=1.0,\n",
    "                    train_loader=train2_1batch_loader,\n",
    "                    whole_train=train2_1batch_loader,\n",
    "                )\n",
    "            )\n",
    "risk_01"
   ]
  },
  {
   "cell_type": "code",
   "execution_count": 24,
   "metadata": {},
   "outputs": [
    {
     "name": "stderr",
     "output_type": "stream",
     "text": [
      "100%|██████████| 10/10 [00:18<00:00,  1.89s/it]\n",
      "100%|██████████| 10/10 [00:19<00:00,  1.90s/it]\n",
      "100%|██████████| 10/10 [00:19<00:00,  1.92s/it]\n",
      "100%|██████████| 10/10 [00:19<00:00,  1.98s/it]\n",
      "100%|██████████| 10/10 [00:19<00:00,  1.95s/it]\n",
      "100%|██████████| 10/10 [00:19<00:00,  1.97s/it]\n",
      "100%|██████████| 10/10 [00:19<00:00,  2.00s/it]\n",
      "100%|██████████| 10/10 [00:20<00:00,  2.02s/it]\n",
      "100%|██████████| 10/10 [00:19<00:00,  1.96s/it]\n",
      "100%|██████████| 10/10 [00:20<00:00,  2.01s/it]\n",
      "100%|██████████| 10/10 [03:36<00:00, 21.62s/it]\n"
     ]
    },
    {
     "data": {
      "text/plain": [
       "0.3784678480132313"
      ]
     },
     "execution_count": 24,
     "metadata": {},
     "output_type": "execute_result"
    }
   ],
   "source": [
    "compute_final_stats_risk_delta(\n",
    "    net2,\n",
    "    net1,\n",
    "    10,\n",
    "    10,\n",
    "    input_S,\n",
    "    target_S,\n",
    "    input_S_2,\n",
    "    target_S_2,\n",
    "    None,\n",
    "    10,\n",
    "    clamping=True,\n",
    "    pmin=1e-5,\n",
    "    delta_test=0.01,\n",
    ")"
   ]
  },
  {
   "cell_type": "code",
   "execution_count": 120,
   "metadata": {},
   "outputs": [
    {
     "name": "stderr",
     "output_type": "stream",
     "text": [
      "100%|██████████| 10/10 [00:18<00:00,  1.85s/it]\n",
      "100%|██████████| 10/10 [00:18<00:00,  1.83s/it]\n",
      "100%|██████████| 10/10 [00:18<00:00,  1.83s/it]\n",
      "100%|██████████| 10/10 [00:18<00:00,  1.84s/it]\n",
      "100%|██████████| 10/10 [00:18<00:00,  1.84s/it]\n",
      "100%|██████████| 10/10 [00:18<00:00,  1.83s/it]\n",
      "100%|██████████| 10/10 [00:18<00:00,  1.83s/it]\n",
      "100%|██████████| 10/10 [00:18<00:00,  1.83s/it]\n",
      "100%|██████████| 10/10 [00:18<00:00,  1.84s/it]\n",
      "100%|██████████| 10/10 [00:19<00:00,  1.98s/it]\n",
      "100%|██████████| 10/10 [03:23<00:00, 20.33s/it]\n"
     ]
    },
    {
     "data": {
      "text/plain": [
       "0.6111762871697817"
      ]
     },
     "execution_count": 120,
     "metadata": {},
     "output_type": "execute_result"
    }
   ],
   "source": [
    "compute_final_stats_risk_delta(\n",
    "    net2,\n",
    "    net1,\n",
    "    10,\n",
    "    10,\n",
    "    input_S,\n",
    "    target_S,\n",
    "    input_S_2,\n",
    "    target_S_2,\n",
    "    None,\n",
    "    10,\n",
    "    clamping=True,\n",
    "    pmin=1e-5,\n",
    "    delta_test=0.01,\n",
    ")"
   ]
  },
  {
   "cell_type": "code",
   "execution_count": 21,
   "metadata": {},
   "outputs": [
    {
     "data": {
      "text/plain": [
       "tensor(11371)"
      ]
     },
     "execution_count": 21,
     "metadata": {},
     "output_type": "execute_result"
    }
   ],
   "source": [
    "net1.eval()\n",
    "get_loss_01(net1, input_S, target_S, sample=False, clamping=True, pmin=1e-5).sum()"
   ]
  },
  {
   "cell_type": "code",
   "execution_count": 22,
   "metadata": {},
   "outputs": [
    {
     "data": {
      "text/plain": [
       "tensor(9391)"
      ]
     },
     "execution_count": 22,
     "metadata": {},
     "output_type": "execute_result"
    }
   ],
   "source": [
    "net2.eval()\n",
    "get_loss_01(net2, input_S, target_S, sample=False, clamping=True, pmin=1e-5).sum()"
   ]
  },
  {
   "cell_type": "code",
   "execution_count": 39,
   "metadata": {},
   "outputs": [
    {
     "data": {
      "text/plain": [
       "tensor(619)"
      ]
     },
     "execution_count": 39,
     "metadata": {},
     "output_type": "execute_result"
    }
   ],
   "source": [
    "net1.eval()\n",
    "get_loss_01(net1, input_S_2, target_S_2, sample=False, clamping=True, pmin=1e-5).sum()"
   ]
  },
  {
   "cell_type": "code",
   "execution_count": 1,
   "metadata": {},
   "outputs": [
    {
     "ename": "NameError",
     "evalue": "name 'net2' is not defined",
     "output_type": "error",
     "traceback": [
      "\u001b[0;31m---------------------------------------------------------------------------\u001b[0m",
      "\u001b[0;31mNameError\u001b[0m                                 Traceback (most recent call last)",
      "Cell \u001b[0;32mIn[1], line 1\u001b[0m\n\u001b[0;32m----> 1\u001b[0m \u001b[43mnet2\u001b[49m\u001b[38;5;241m.\u001b[39ml1\n",
      "\u001b[0;31mNameError\u001b[0m: name 'net2' is not defined"
     ]
    }
   ],
   "source": [
    "net2.l1"
   ]
  },
  {
   "cell_type": "code",
   "execution_count": null,
   "metadata": {},
   "outputs": [],
   "source": []
  }
 ],
 "metadata": {
  "kernelspec": {
   "display_name": "pbb_tight",
   "language": "python",
   "name": "python3"
  },
  "language_info": {
   "codemirror_mode": {
    "name": "ipython",
    "version": 3
   },
   "file_extension": ".py",
   "mimetype": "text/x-python",
   "name": "python",
   "nbconvert_exporter": "python",
   "pygments_lexer": "ipython3",
   "version": "3.8.18"
  }
 },
 "nbformat": 4,
 "nbformat_minor": 2
}
